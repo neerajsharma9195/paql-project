{
 "cells": [
  {
   "cell_type": "code",
   "execution_count": 1,
   "metadata": {},
   "outputs": [],
   "source": [
    "import pandas as pd"
   ]
  },
  {
   "cell_type": "code",
   "execution_count": 2,
   "metadata": {},
   "outputs": [],
   "source": [
    "df = pd.read_csv('data/tpch.csv', sep=',')"
   ]
  },
  {
   "cell_type": "code",
   "execution_count": 4,
   "metadata": {},
   "outputs": [
    {
     "data": {
      "text/plain": [
       "(6001215, 14)"
      ]
     },
     "execution_count": 4,
     "metadata": {},
     "output_type": "execute_result"
    }
   ],
   "source": [
    "df.shape"
   ]
  },
  {
   "cell_type": "code",
   "execution_count": 7,
   "metadata": {},
   "outputs": [
    {
     "data": {
      "text/html": [
       "<div>\n",
       "<style scoped>\n",
       "    .dataframe tbody tr th:only-of-type {\n",
       "        vertical-align: middle;\n",
       "    }\n",
       "\n",
       "    .dataframe tbody tr th {\n",
       "        vertical-align: top;\n",
       "    }\n",
       "\n",
       "    .dataframe thead th {\n",
       "        text-align: right;\n",
       "    }\n",
       "</style>\n",
       "<table border=\"1\" class=\"dataframe\">\n",
       "  <thead>\n",
       "    <tr style=\"text-align: right;\">\n",
       "      <th></th>\n",
       "      <th>id</th>\n",
       "      <th>sum_base_price</th>\n",
       "      <th>sum_disc_price</th>\n",
       "      <th>sum_charge</th>\n",
       "      <th>avg_qty</th>\n",
       "      <th>avg_price</th>\n",
       "      <th>avg_disc</th>\n",
       "      <th>sum_qty</th>\n",
       "      <th>count_order</th>\n",
       "      <th>p_size</th>\n",
       "      <th>ps_min_supplycost</th>\n",
       "      <th>revenue</th>\n",
       "      <th>o_totalprice</th>\n",
       "      <th>o_shippriority</th>\n",
       "    </tr>\n",
       "  </thead>\n",
       "  <tbody>\n",
       "    <tr>\n",
       "      <th>0</th>\n",
       "      <td>1</td>\n",
       "      <td>97616494.46</td>\n",
       "      <td>9.281309e+07</td>\n",
       "      <td>9.655614e+07</td>\n",
       "      <td>25.235616</td>\n",
       "      <td>38206.064368</td>\n",
       "      <td>0.049123</td>\n",
       "      <td>64477</td>\n",
       "      <td>2555</td>\n",
       "      <td>31</td>\n",
       "      <td>54.93</td>\n",
       "      <td>33956.0043</td>\n",
       "      <td>157152.37</td>\n",
       "      <td>0</td>\n",
       "    </tr>\n",
       "    <tr>\n",
       "      <th>1</th>\n",
       "      <td>2</td>\n",
       "      <td>48267290.15</td>\n",
       "      <td>4.581517e+07</td>\n",
       "      <td>4.759172e+07</td>\n",
       "      <td>25.853344</td>\n",
       "      <td>38893.867969</td>\n",
       "      <td>0.050274</td>\n",
       "      <td>32084</td>\n",
       "      <td>1241</td>\n",
       "      <td>48</td>\n",
       "      <td>154.33</td>\n",
       "      <td>5938.0480</td>\n",
       "      <td>37722.25</td>\n",
       "      <td>0</td>\n",
       "    </tr>\n",
       "    <tr>\n",
       "      <th>2</th>\n",
       "      <td>3</td>\n",
       "      <td>95371945.77</td>\n",
       "      <td>9.062359e+07</td>\n",
       "      <td>9.420106e+07</td>\n",
       "      <td>25.687650</td>\n",
       "      <td>38240.555642</td>\n",
       "      <td>0.050449</td>\n",
       "      <td>64065</td>\n",
       "      <td>2494</td>\n",
       "      <td>15</td>\n",
       "      <td>311.91</td>\n",
       "      <td>5711.1021</td>\n",
       "      <td>93733.64</td>\n",
       "      <td>0</td>\n",
       "    </tr>\n",
       "    <tr>\n",
       "      <th>3</th>\n",
       "      <td>4</td>\n",
       "      <td>92278812.00</td>\n",
       "      <td>8.764915e+07</td>\n",
       "      <td>9.120596e+07</td>\n",
       "      <td>25.437733</td>\n",
       "      <td>38179.069921</td>\n",
       "      <td>0.050017</td>\n",
       "      <td>61483</td>\n",
       "      <td>2417</td>\n",
       "      <td>23</td>\n",
       "      <td>196.92</td>\n",
       "      <td>22395.7578</td>\n",
       "      <td>144832.34</td>\n",
       "      <td>0</td>\n",
       "    </tr>\n",
       "    <tr>\n",
       "      <th>4</th>\n",
       "      <td>5</td>\n",
       "      <td>96048961.61</td>\n",
       "      <td>9.129832e+07</td>\n",
       "      <td>9.496757e+07</td>\n",
       "      <td>25.715611</td>\n",
       "      <td>38745.043005</td>\n",
       "      <td>0.049734</td>\n",
       "      <td>63749</td>\n",
       "      <td>2479</td>\n",
       "      <td>34</td>\n",
       "      <td>14.81</td>\n",
       "      <td>13359.2515</td>\n",
       "      <td>123773.56</td>\n",
       "      <td>0</td>\n",
       "    </tr>\n",
       "  </tbody>\n",
       "</table>\n",
       "</div>"
      ],
      "text/plain": [
       "   id  sum_base_price  sum_disc_price    sum_charge    avg_qty     avg_price  \\\n",
       "0   1     97616494.46    9.281309e+07  9.655614e+07  25.235616  38206.064368   \n",
       "1   2     48267290.15    4.581517e+07  4.759172e+07  25.853344  38893.867969   \n",
       "2   3     95371945.77    9.062359e+07  9.420106e+07  25.687650  38240.555642   \n",
       "3   4     92278812.00    8.764915e+07  9.120596e+07  25.437733  38179.069921   \n",
       "4   5     96048961.61    9.129832e+07  9.496757e+07  25.715611  38745.043005   \n",
       "\n",
       "   avg_disc  sum_qty  count_order  p_size  ps_min_supplycost     revenue  \\\n",
       "0  0.049123    64477         2555      31              54.93  33956.0043   \n",
       "1  0.050274    32084         1241      48             154.33   5938.0480   \n",
       "2  0.050449    64065         2494      15             311.91   5711.1021   \n",
       "3  0.050017    61483         2417      23             196.92  22395.7578   \n",
       "4  0.049734    63749         2479      34              14.81  13359.2515   \n",
       "\n",
       "   o_totalprice  o_shippriority  \n",
       "0     157152.37               0  \n",
       "1      37722.25               0  \n",
       "2      93733.64               0  \n",
       "3     144832.34               0  \n",
       "4     123773.56               0  "
      ]
     },
     "execution_count": 7,
     "metadata": {},
     "output_type": "execute_result"
    }
   ],
   "source": [
    "df.head()"
   ]
  },
  {
   "cell_type": "code",
   "execution_count": 12,
   "metadata": {},
   "outputs": [],
   "source": [
    "df1 = df.head(1000000)"
   ]
  },
  {
   "cell_type": "code",
   "execution_count": 17,
   "metadata": {},
   "outputs": [],
   "source": [
    "numRows, numCols = df1.shape"
   ]
  },
  {
   "cell_type": "code",
   "execution_count": 14,
   "metadata": {},
   "outputs": [
    {
     "data": {
      "text/html": [
       "<div>\n",
       "<style scoped>\n",
       "    .dataframe tbody tr th:only-of-type {\n",
       "        vertical-align: middle;\n",
       "    }\n",
       "\n",
       "    .dataframe tbody tr th {\n",
       "        vertical-align: top;\n",
       "    }\n",
       "\n",
       "    .dataframe thead th {\n",
       "        text-align: right;\n",
       "    }\n",
       "</style>\n",
       "<table border=\"1\" class=\"dataframe\">\n",
       "  <thead>\n",
       "    <tr style=\"text-align: right;\">\n",
       "      <th></th>\n",
       "      <th>id</th>\n",
       "      <th>sum_base_price</th>\n",
       "      <th>sum_disc_price</th>\n",
       "      <th>sum_charge</th>\n",
       "      <th>avg_qty</th>\n",
       "      <th>avg_price</th>\n",
       "      <th>avg_disc</th>\n",
       "      <th>sum_qty</th>\n",
       "      <th>count_order</th>\n",
       "      <th>p_size</th>\n",
       "      <th>ps_min_supplycost</th>\n",
       "      <th>revenue</th>\n",
       "      <th>o_totalprice</th>\n",
       "      <th>o_shippriority</th>\n",
       "    </tr>\n",
       "  </thead>\n",
       "  <tbody>\n",
       "    <tr>\n",
       "      <th>0</th>\n",
       "      <td>1</td>\n",
       "      <td>97616494.46</td>\n",
       "      <td>9.281309e+07</td>\n",
       "      <td>9.655614e+07</td>\n",
       "      <td>25.235616</td>\n",
       "      <td>38206.064368</td>\n",
       "      <td>0.049123</td>\n",
       "      <td>64477</td>\n",
       "      <td>2555</td>\n",
       "      <td>31</td>\n",
       "      <td>54.93</td>\n",
       "      <td>33956.0043</td>\n",
       "      <td>157152.37</td>\n",
       "      <td>0</td>\n",
       "    </tr>\n",
       "    <tr>\n",
       "      <th>1</th>\n",
       "      <td>2</td>\n",
       "      <td>48267290.15</td>\n",
       "      <td>4.581517e+07</td>\n",
       "      <td>4.759172e+07</td>\n",
       "      <td>25.853344</td>\n",
       "      <td>38893.867969</td>\n",
       "      <td>0.050274</td>\n",
       "      <td>32084</td>\n",
       "      <td>1241</td>\n",
       "      <td>48</td>\n",
       "      <td>154.33</td>\n",
       "      <td>5938.0480</td>\n",
       "      <td>37722.25</td>\n",
       "      <td>0</td>\n",
       "    </tr>\n",
       "    <tr>\n",
       "      <th>2</th>\n",
       "      <td>3</td>\n",
       "      <td>95371945.77</td>\n",
       "      <td>9.062359e+07</td>\n",
       "      <td>9.420106e+07</td>\n",
       "      <td>25.687650</td>\n",
       "      <td>38240.555642</td>\n",
       "      <td>0.050449</td>\n",
       "      <td>64065</td>\n",
       "      <td>2494</td>\n",
       "      <td>15</td>\n",
       "      <td>311.91</td>\n",
       "      <td>5711.1021</td>\n",
       "      <td>93733.64</td>\n",
       "      <td>0</td>\n",
       "    </tr>\n",
       "    <tr>\n",
       "      <th>3</th>\n",
       "      <td>4</td>\n",
       "      <td>92278812.00</td>\n",
       "      <td>8.764915e+07</td>\n",
       "      <td>9.120596e+07</td>\n",
       "      <td>25.437733</td>\n",
       "      <td>38179.069921</td>\n",
       "      <td>0.050017</td>\n",
       "      <td>61483</td>\n",
       "      <td>2417</td>\n",
       "      <td>23</td>\n",
       "      <td>196.92</td>\n",
       "      <td>22395.7578</td>\n",
       "      <td>144832.34</td>\n",
       "      <td>0</td>\n",
       "    </tr>\n",
       "    <tr>\n",
       "      <th>4</th>\n",
       "      <td>5</td>\n",
       "      <td>96048961.61</td>\n",
       "      <td>9.129832e+07</td>\n",
       "      <td>9.496757e+07</td>\n",
       "      <td>25.715611</td>\n",
       "      <td>38745.043005</td>\n",
       "      <td>0.049734</td>\n",
       "      <td>63749</td>\n",
       "      <td>2479</td>\n",
       "      <td>34</td>\n",
       "      <td>14.81</td>\n",
       "      <td>13359.2515</td>\n",
       "      <td>123773.56</td>\n",
       "      <td>0</td>\n",
       "    </tr>\n",
       "  </tbody>\n",
       "</table>\n",
       "</div>"
      ],
      "text/plain": [
       "   id  sum_base_price  sum_disc_price    sum_charge    avg_qty     avg_price  \\\n",
       "0   1     97616494.46    9.281309e+07  9.655614e+07  25.235616  38206.064368   \n",
       "1   2     48267290.15    4.581517e+07  4.759172e+07  25.853344  38893.867969   \n",
       "2   3     95371945.77    9.062359e+07  9.420106e+07  25.687650  38240.555642   \n",
       "3   4     92278812.00    8.764915e+07  9.120596e+07  25.437733  38179.069921   \n",
       "4   5     96048961.61    9.129832e+07  9.496757e+07  25.715611  38745.043005   \n",
       "\n",
       "   avg_disc  sum_qty  count_order  p_size  ps_min_supplycost     revenue  \\\n",
       "0  0.049123    64477         2555      31              54.93  33956.0043   \n",
       "1  0.050274    32084         1241      48             154.33   5938.0480   \n",
       "2  0.050449    64065         2494      15             311.91   5711.1021   \n",
       "3  0.050017    61483         2417      23             196.92  22395.7578   \n",
       "4  0.049734    63749         2479      34              14.81  13359.2515   \n",
       "\n",
       "   o_totalprice  o_shippriority  \n",
       "0     157152.37               0  \n",
       "1      37722.25               0  \n",
       "2      93733.64               0  \n",
       "3     144832.34               0  \n",
       "4     123773.56               0  "
      ]
     },
     "execution_count": 14,
     "metadata": {},
     "output_type": "execute_result"
    }
   ],
   "source": [
    "df1.head()"
   ]
  },
  {
   "cell_type": "code",
   "execution_count": 19,
   "metadata": {},
   "outputs": [],
   "source": [
    "from pulp import *"
   ]
  },
  {
   "cell_type": "markdown",
   "metadata": {},
   "source": [
    "### First Query ####"
   ]
  },
  {
   "cell_type": "code",
   "execution_count": 20,
   "metadata": {},
   "outputs": [],
   "source": [
    "lp_variables = []\n",
    "for i in range(numRows):\n",
    "    lp_variables.append(LpVariable(\"t_{}\".format(i+1), 0, 1))"
   ]
  },
  {
   "cell_type": "code",
   "execution_count": 26,
   "metadata": {},
   "outputs": [],
   "source": [
    "prob = LpProblem(\"firstQuery\", LpMaximize)"
   ]
  },
  {
   "cell_type": "code",
   "execution_count": 27,
   "metadata": {},
   "outputs": [],
   "source": [
    "prob += lpDot(lp_variables, df1['count_order'])"
   ]
  },
  {
   "cell_type": "code",
   "execution_count": 28,
   "metadata": {},
   "outputs": [],
   "source": [
    "constraint1 = (lpDot(lp_variables, df1['sum_base_price']) <= 15469853.7043)"
   ]
  },
  {
   "cell_type": "code",
   "execution_count": 29,
   "metadata": {},
   "outputs": [],
   "source": [
    "constraint2 = (lpDot(lp_variables, df1['sum_disc_price']) <= 45279795.0584)"
   ]
  },
  {
   "cell_type": "code",
   "execution_count": 30,
   "metadata": {},
   "outputs": [],
   "source": [
    "constraint3 = (lpDot(lp_variables, df1['sum_charge']) <= 95250227.7918)"
   ]
  },
  {
   "cell_type": "code",
   "execution_count": 31,
   "metadata": {},
   "outputs": [],
   "source": [
    "constraint4 = (lpDot(lp_variables, df1['avg_qty']) <= 50.353948653)"
   ]
  },
  {
   "cell_type": "code",
   "execution_count": 32,
   "metadata": {},
   "outputs": [],
   "source": [
    "constraint5 = (lpDot(lp_variables, df1['avg_price']) <= 68677.5852459)"
   ]
  },
  {
   "cell_type": "code",
   "execution_count": 33,
   "metadata": {},
   "outputs": [],
   "source": [
    "constraint6 = (lpDot(lp_variables, df1['avg_disc']) <= 0.110243522496)"
   ]
  },
  {
   "cell_type": "code",
   "execution_count": 34,
   "metadata": {},
   "outputs": [],
   "source": [
    "constraint7 = (lpDot(lp_variables, df1['sum_qty']) <= 77782.028739)"
   ]
  },
  {
   "cell_type": "code",
   "execution_count": 35,
   "metadata": {},
   "outputs": [],
   "source": [
    "constraint8 = (lpSum(lp_variables) >= 1)"
   ]
  },
  {
   "cell_type": "code",
   "execution_count": 36,
   "metadata": {},
   "outputs": [],
   "source": [
    "prob += constraint1\n",
    "prob += constraint2\n",
    "prob += constraint3\n",
    "prob += constraint4\n",
    "prob += constraint5\n",
    "prob += constraint6\n",
    "prob += constraint7\n",
    "prob += constraint8"
   ]
  },
  {
   "cell_type": "code",
   "execution_count": 37,
   "metadata": {},
   "outputs": [],
   "source": [
    "status = prob.solve()"
   ]
  },
  {
   "cell_type": "code",
   "execution_count": 39,
   "metadata": {},
   "outputs": [
    {
     "data": {
      "text/plain": [
       "'Optimal'"
      ]
     },
     "execution_count": 39,
     "metadata": {},
     "output_type": "execute_result"
    }
   ],
   "source": [
    "LpStatus[status]"
   ]
  },
  {
   "cell_type": "code",
   "execution_count": 40,
   "metadata": {},
   "outputs": [],
   "source": [
    "ans = [value(v) for v in lp_variables]"
   ]
  },
  {
   "cell_type": "code",
   "execution_count": 46,
   "metadata": {},
   "outputs": [
    {
     "name": "stdout",
     "output_type": "stream",
     "text": [
      "100972 0.6035174\n",
      "139394 1.0\n",
      "818569 0.52891753\n"
     ]
    }
   ],
   "source": [
    "for i, val in enumerate(ans):\n",
    "    if val > 0:\n",
    "        print(i, val)"
   ]
  },
  {
   "cell_type": "markdown",
   "metadata": {},
   "source": [
    "### Second Query ###"
   ]
  },
  {
   "cell_type": "code",
   "execution_count": 48,
   "metadata": {},
   "outputs": [
    {
     "name": "stdout",
     "output_type": "stream",
     "text": [
      "Optimal\n"
     ]
    }
   ],
   "source": [
    "prob2 = LpProblem(\"secondQuery\", LpMinimize)\n",
    "lp_variables = []\n",
    "for i in range(numRows):\n",
    "    lp_variables.append(LpVariable(\"t_{}\".format(i+1), 0, 1))\n",
    "\n",
    "objective_prob = lpDot(lp_variables, df1['ps_min_supplycost'])\n",
    "\n",
    "constraint1 = (lpDot(lp_variables, df1['p_size']) <= 8)\n",
    "constraint2 = (lpSum(lp_variables) >= 1)\n",
    "prob2 += objective_prob\n",
    "prob2 += constraint1\n",
    "prob2 += constraint2\n",
    "status1 = prob2.solve()\n",
    "print(LpStatus[status1])"
   ]
  },
  {
   "cell_type": "code",
   "execution_count": 49,
   "metadata": {},
   "outputs": [
    {
     "name": "stdout",
     "output_type": "stream",
     "text": [
      "112677 1.0\n"
     ]
    }
   ],
   "source": [
    "ans = [value(v) for v in lp_variables]\n",
    "for i, val in enumerate(ans):\n",
    "    if val > 0:\n",
    "        print(i, val)"
   ]
  },
  {
   "cell_type": "markdown",
   "metadata": {},
   "source": [
    "#### Third Query ####"
   ]
  },
  {
   "cell_type": "code",
   "execution_count": 50,
   "metadata": {},
   "outputs": [
    {
     "name": "stdout",
     "output_type": "stream",
     "text": [
      "Optimal\n",
      "9670 1.0\n",
      "572518 0.95042532\n"
     ]
    }
   ],
   "source": [
    "prob3 = LpProblem(\"thirdQuery\", LpMinimize)\n",
    "lp_variables = []\n",
    "for i in range(numRows):\n",
    "    lp_variables.append(LpVariable(\"t_{}\".format(i+1), 0, 1))\n",
    "\n",
    "objective_prob = lpSum(lp_variables)\n",
    "\n",
    "constraint1 = (lpDot(lp_variables, df1['revenue']) >= 413930.849506)\n",
    "constraint2 = (lpSum(lp_variables) >= 1)\n",
    "prob3 += objective_prob\n",
    "prob3 += constraint1\n",
    "prob3 += constraint2\n",
    "status3 = prob3.solve()\n",
    "print(LpStatus[status3])\n",
    "ans = [value(v) for v in lp_variables]\n",
    "for i, val in enumerate(ans):\n",
    "    if val > 0:\n",
    "        print(i, val)"
   ]
  },
  {
   "cell_type": "markdown",
   "metadata": {},
   "source": [
    "### Forth Query ####"
   ]
  },
  {
   "cell_type": "code",
   "execution_count": 51,
   "metadata": {},
   "outputs": [
    {
     "name": "stdout",
     "output_type": "stream",
     "text": [
      "Optimal\n",
      "399797 1.0\n",
      "630712 0.5\n"
     ]
    }
   ],
   "source": [
    "prob4 = LpProblem(\"forthQuery\", LpMinimize)\n",
    "lp_variables = []\n",
    "for i in range(numRows):\n",
    "    lp_variables.append(LpVariable(\"t_{}\".format(i+1), 0, 1))\n",
    "\n",
    "objective_prob = lpSum(lp_variables)\n",
    "\n",
    "constraint1 = (lpDot(lp_variables, df1['o_totalprice']) <= 453998.242103)\n",
    "constraint2 = (lpDot(lp_variables, df1['o_shippriority']) >= 3)\n",
    "constraint3 = (lpSum(lp_variables) >= 1)\n",
    "prob4 += objective_prob\n",
    "prob4 += constraint1\n",
    "prob4 += constraint2\n",
    "prob4 += constraint3\n",
    "status4 = prob4.solve()\n",
    "print(LpStatus[status4])\n",
    "ans = [value(v) for v in lp_variables]\n",
    "for i, val in enumerate(ans):\n",
    "    if val > 0:\n",
    "        print(i, val)"
   ]
  },
  {
   "cell_type": "code",
   "execution_count": null,
   "metadata": {},
   "outputs": [],
   "source": []
  }
 ],
 "metadata": {
  "kernelspec": {
   "display_name": "Python 3",
   "language": "python",
   "name": "python3"
  },
  "language_info": {
   "codemirror_mode": {
    "name": "ipython",
    "version": 3
   },
   "file_extension": ".py",
   "mimetype": "text/x-python",
   "name": "python",
   "nbconvert_exporter": "python",
   "pygments_lexer": "ipython3",
   "version": "3.7.5"
  }
 },
 "nbformat": 4,
 "nbformat_minor": 2
}
